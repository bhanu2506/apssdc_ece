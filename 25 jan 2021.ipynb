{
 "cells": [
  {
   "cell_type": "code",
   "execution_count": 1,
   "id": "suburban-royalty",
   "metadata": {},
   "outputs": [
    {
     "name": "stdout",
     "output_type": "stream",
     "text": [
      "he3llo word\n"
     ]
    }
   ],
   "source": [
    "print('he3llo word')\n"
   ]
  },
  {
   "cell_type": "code",
   "execution_count": 2,
   "id": "variable-grade",
   "metadata": {},
   "outputs": [],
   "source": [
    "#syntax:\n",
    "# for var in range(start,end,diff):\n",
    "# statements\n"
   ]
  },
  {
   "cell_type": "code",
   "execution_count": 2,
   "id": "hollywood-catering",
   "metadata": {},
   "outputs": [
    {
     "name": "stdout",
     "output_type": "stream",
     "text": [
      " enter namebhanu\n",
      "bhanubhanubhanubhanubhanubhanubhanubhanubhanubhanu"
     ]
    }
   ],
   "source": [
    "a= input(\" enter name\")\n",
    "for i in range(1,11):\n",
    "    print(a,end=\"\")\n",
    "    "
   ]
  },
  {
   "cell_type": "code",
   "execution_count": 3,
   "id": "phantom-perfume",
   "metadata": {},
   "outputs": [
    {
     "name": "stdout",
     "output_type": "stream",
     "text": [
      "13579111315171921232527293133353739414345474951535557596163656769717375777981838587899193959799"
     ]
    }
   ],
   "source": [
    "#a=input`(\"enter name\")\n",
    "for i in range(1,100+1,2):\n",
    "    print(i,end=\"\")\n",
    "    "
   ]
  },
  {
   "cell_type": "code",
   "execution_count": 1,
   "id": "complex-uncertainty",
   "metadata": {},
   "outputs": [
    {
     "name": "stdout",
     "output_type": "stream",
     "text": [
      "2 4 6 8 10 12 14 16 18 20 22 24 26 28 30 32 34 36 38 40 42 44 46 48 50 52 54 56 58 60 62 64 66 68 70 72 74 76 78 80 82 84 86 88 90 92 94 96 98 100 2 4 6 8 10 12 14 16 18 20 22 24 26 28 30 32 34 36 38 40 42 44 46 48 50 52 54 56 58 60 62 64 66 68 70 72 74 76 78 80 82 84 86 88 90 92 94 96 98 100 2 4 6 8 10 12 14 16 18 20 22 24 26 28 30 32 34 36 38 40 42 44 46 48 50 52 54 56 58 60 62 64 66 68 70 72 74 76 78 80 82 84 86 88 90 92 94 96 98 100 2 4 6 8 10 12 14 16 18 20 22 24 26 28 30 32 34 36 38 40 42 44 46 48 50 52 54 56 58 60 62 64 66 68 70 72 74 76 78 80 82 84 86 88 90 92 94 96 98 100 2 4 6 8 10 12 14 16 18 20 22 24 26 28 30 32 34 36 38 40 42 44 46 48 50 52 54 56 58 60 62 64 66 68 70 72 74 76 78 80 82 84 86 88 90 92 94 96 98 100 "
     ]
    }
   ],
   "source": [
    "for i in range(1,101):\n",
    "  if i%2==0:\n",
    "    print(i,end=\" \")\n",
    "    "
   ]
  },
  {
   "cell_type": "code",
   "execution_count": 2,
   "id": "under-sharing",
   "metadata": {},
   "outputs": [
    {
     "name": "stdout",
     "output_type": "stream",
     "text": [
      "enter  value5\n",
      "odd 5\n",
      "odd 5\n",
      "odd 5\n",
      "odd 5\n",
      "odd 5\n"
     ]
    }
   ],
   "source": [
    "a=int(input(\"enter  value\"))\n",
    "if a%2==0:\n",
    "        print(\"even\",a)\n",
    "else:\n",
    "        print('odd',a)\n"
   ]
  },
  {
   "cell_type": "code",
   "execution_count": 3,
   "id": "dimensional-custom",
   "metadata": {},
   "outputs": [
    {
     "name": "stdout",
     "output_type": "stream",
     "text": [
      "enter table numb:27\n",
      "enter table length:20\n",
      "27 * 1=27\n",
      "27 * 2=54\n",
      "27 * 3=81\n",
      "27 * 4=108\n",
      "27 * 5=135\n",
      "27 * 6=162\n",
      "27 * 7=189\n",
      "27 * 8=216\n",
      "27 * 9=243\n",
      "27 * 10=270\n",
      "27 * 11=297\n",
      "27 * 12=324\n",
      "27 * 13=351\n",
      "27 * 14=378\n",
      "27 * 15=405\n",
      "27 * 16=432\n",
      "27 * 17=459\n",
      "27 * 18=486\n",
      "27 * 19=513\n",
      "27 * 20=540\n",
      "27 * 1=27\n",
      "27 * 2=54\n",
      "27 * 3=81\n",
      "27 * 4=108\n",
      "27 * 5=135\n",
      "27 * 6=162\n",
      "27 * 7=189\n",
      "27 * 8=216\n",
      "27 * 9=243\n",
      "27 * 10=270\n",
      "27 * 11=297\n",
      "27 * 12=324\n",
      "27 * 13=351\n",
      "27 * 14=378\n",
      "27 * 15=405\n",
      "27 * 16=432\n",
      "27 * 17=459\n",
      "27 * 18=486\n",
      "27 * 19=513\n",
      "27 * 20=540\n",
      "27 * 1=27\n",
      "27 * 2=54\n",
      "27 * 3=81\n",
      "27 * 4=108\n",
      "27 * 5=135\n",
      "27 * 6=162\n",
      "27 * 7=189\n",
      "27 * 8=216\n",
      "27 * 9=243\n",
      "27 * 10=270\n",
      "27 * 11=297\n",
      "27 * 12=324\n",
      "27 * 13=351\n",
      "27 * 14=378\n",
      "27 * 15=405\n",
      "27 * 16=432\n",
      "27 * 17=459\n",
      "27 * 18=486\n",
      "27 * 19=513\n",
      "27 * 20=540\n",
      "27 * 1=27\n",
      "27 * 2=54\n",
      "27 * 3=81\n",
      "27 * 4=108\n",
      "27 * 5=135\n",
      "27 * 6=162\n",
      "27 * 7=189\n",
      "27 * 8=216\n",
      "27 * 9=243\n",
      "27 * 10=270\n",
      "27 * 11=297\n",
      "27 * 12=324\n",
      "27 * 13=351\n",
      "27 * 14=378\n",
      "27 * 15=405\n",
      "27 * 16=432\n",
      "27 * 17=459\n",
      "27 * 18=486\n",
      "27 * 19=513\n",
      "27 * 20=540\n",
      "27 * 1=27\n",
      "27 * 2=54\n",
      "27 * 3=81\n",
      "27 * 4=108\n",
      "27 * 5=135\n",
      "27 * 6=162\n",
      "27 * 7=189\n",
      "27 * 8=216\n",
      "27 * 9=243\n",
      "27 * 10=270\n",
      "27 * 11=297\n",
      "27 * 12=324\n",
      "27 * 13=351\n",
      "27 * 14=378\n",
      "27 * 15=405\n",
      "27 * 16=432\n",
      "27 * 17=459\n",
      "27 * 18=486\n",
      "27 * 19=513\n",
      "27 * 20=540\n"
     ]
    }
   ],
   "source": [
    "t=int(input('enter table numb:'))\n",
    "t_len=int(input('enter table length:'))\n",
    "for i in range(1,t_len+1):\n",
    "    \n",
    "    print('{} * {}={}' .format(t,i,t*i))"
   ]
  },
  {
   "cell_type": "code",
   "execution_count": null,
   "id": "stainless-looking",
   "metadata": {},
   "outputs": [],
   "source": []
  },
  {
   "cell_type": "code",
   "execution_count": null,
   "id": "realistic-latex",
   "metadata": {},
   "outputs": [],
   "source": []
  }
 ],
 "metadata": {
  "kernelspec": {
   "display_name": "Python 3",
   "language": "python",
   "name": "python3"
  },
  "language_info": {
   "codemirror_mode": {
    "name": "ipython",
    "version": 3
   },
   "file_extension": ".py",
   "mimetype": "text/x-python",
   "name": "python",
   "nbconvert_exporter": "python",
   "pygments_lexer": "ipython3",
   "version": "3.8.0"
  }
 },
 "nbformat": 4,
 "nbformat_minor": 5
}
