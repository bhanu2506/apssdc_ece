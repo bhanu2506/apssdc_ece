{
 "cells": [
  {
   "cell_type": "code",
   "execution_count": 6,
   "id": "supposed-forestry",
   "metadata": {},
   "outputs": [
    {
     "name": "stdout",
     "output_type": "stream",
     "text": [
      "enter number:10\n",
      "not perfect\n"
     ]
    }
   ],
   "source": [
    "n=int(input('enter number:'))\n",
    "s=0\n",
    "for i in range(1,n):\n",
    "    if i%n==0:\n",
    "        s+=1\n",
    "if s==n:\n",
    "      print('perfect number')\n",
    "else:\n",
    "      print('not perfect')\n",
    "      \n",
    "      "
   ]
  },
  {
   "cell_type": "code",
   "execution_count": 9,
   "id": "palestinian-highway",
   "metadata": {},
   "outputs": [
    {
     "name": "stdout",
     "output_type": "stream",
     "text": [
      "enter tables upto:5\n",
      "enter table length6\n",
      "1*1=1\n",
      "1*2=2\n",
      "1*3=3\n",
      "1*4=4\n",
      "1*5=5\n",
      "1*6=6\n",
      "2*1=2\n",
      "2*2=4\n",
      "2*3=6\n",
      "2*4=8\n",
      "2*5=10\n",
      "2*6=12\n",
      "3*1=3\n",
      "3*2=6\n",
      "3*3=9\n",
      "3*4=12\n",
      "3*5=15\n",
      "3*6=18\n",
      "4*1=4\n",
      "4*2=8\n",
      "4*3=12\n",
      "4*4=16\n",
      "4*5=20\n",
      "4*6=24\n",
      "5*1=5\n",
      "5*2=10\n",
      "5*3=15\n",
      "5*4=20\n",
      "5*5=25\n",
      "5*6=30\n"
     ]
    }
   ],
   "source": [
    "t=int(input('enter tables upto:'))\n",
    "t_len=int(input('enter table length'))\n",
    "for i in range(1,t+1):\n",
    "    for j in range(1,t_len+1):\n",
    "        print('{}*{}={}'.format(i,j,i*j))\n",
    "        \n",
    "\n"
   ]
  },
  {
   "cell_type": "code",
   "execution_count": 10,
   "id": "collect-wound",
   "metadata": {},
   "outputs": [
    {
     "name": "stdout",
     "output_type": "stream",
     "text": [
      "12346789"
     ]
    }
   ],
   "source": [
    "for i in range(1,10):\n",
    "    if i ==5:\n",
    "        continue\n",
    "    print(i,end= '')"
   ]
  },
  {
   "cell_type": "code",
   "execution_count": null,
   "id": "closed-turkey",
   "metadata": {},
   "outputs": [],
   "source": []
  }
 ],
 "metadata": {
  "kernelspec": {
   "display_name": "Python 3",
   "language": "python",
   "name": "python3"
  },
  "language_info": {
   "codemirror_mode": {
    "name": "ipython",
    "version": 3
   },
   "file_extension": ".py",
   "mimetype": "text/x-python",
   "name": "python",
   "nbconvert_exporter": "python",
   "pygments_lexer": "ipython3",
   "version": "3.8.0"
  }
 },
 "nbformat": 4,
 "nbformat_minor": 5
}
