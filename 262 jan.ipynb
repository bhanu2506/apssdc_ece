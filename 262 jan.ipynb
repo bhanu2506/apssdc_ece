{
 "cells": [
  {
   "cell_type": "markdown",
   "id": "opened-lobby",
   "metadata": {},
   "source": [
    "### functions\n",
    "-types of functions:\n",
    "    -1.inbuilt/default functions:\n",
    "        ex.print,sum,max,min,int\n",
    "        2.user define functions:\n",
    "            1.)fn declaration:\n",
    "                def fn name(arg):\n",
    "                    \n",
    "                \n",
    "            \n",
    "     \n",
    "    "
   ]
  },
  {
   "cell_type": "code",
   "execution_count": 2,
   "id": "pointed-houston",
   "metadata": {},
   "outputs": [
    {
     "data": {
      "text/plain": [
       "1"
      ]
     },
     "execution_count": 2,
     "metadata": {},
     "output_type": "execute_result"
    }
   ],
   "source": [
    "min([1,2,3])\n",
    "\n"
   ]
  },
  {
   "cell_type": "code",
   "execution_count": 4,
   "id": "published-salvation",
   "metadata": {},
   "outputs": [
    {
     "name": "stdout",
     "output_type": "stream",
     "text": [
      "9\n"
     ]
    }
   ],
   "source": [
    "#function creation:\n",
    "def add(a,b):\n",
    "    print(a+b)\n",
    "    \n",
    "add(4,5)"
   ]
  },
  {
   "cell_type": "code",
   "execution_count": 7,
   "id": "grateful-disaster",
   "metadata": {},
   "outputs": [
    {
     "name": "stdout",
     "output_type": "stream",
     "text": [
      "2\n"
     ]
    }
   ],
   "source": [
    "def sub(a,b):\n",
    "    print(a-b)\n",
    "sub(6,4)\n"
   ]
  },
  {
   "cell_type": "markdown",
   "id": "driven-phrase",
   "metadata": {},
   "source": [
    "# types of user define functions:\n",
    "# based on return value\n",
    "1.without arg and without return value\n",
    "\n",
    "2.without arg and with return value\n",
    "3.arg and with out retuirn value\n",
    "4.with arg and with return value\n",
    "\n"
   ]
  },
  {
   "cell_type": "code",
   "execution_count": 9,
   "id": "nonprofit-extra",
   "metadata": {},
   "outputs": [
    {
     "name": "stdout",
     "output_type": "stream",
     "text": [
      "enter n value:6\n",
      "not factor\n"
     ]
    }
   ],
   "source": [
    "#1. without arg and withoutv return\n",
    "def f1():\n",
    "    n=int(input('enter n value:'))\n",
    "    if 10%n ==0:\n",
    "        print('number is factor')\n",
    "    else:\n",
    "        print('not factor')\n",
    "f1()\n"
   ]
  },
  {
   "cell_type": "code",
   "execution_count": 10,
   "id": "double-portable",
   "metadata": {},
   "outputs": [
    {
     "name": "stdout",
     "output_type": "stream",
     "text": [
      "9\n",
      "4\n",
      "5\n"
     ]
    }
   ],
   "source": [
    "def add(a,b):\n",
    "    print(a+b)\n",
    "    return a,b\n",
    "a,b=add(4,5)\n",
    "print(a)\n",
    "print(b)"
   ]
  },
  {
   "cell_type": "code",
   "execution_count": 11,
   "id": "oriented-master",
   "metadata": {},
   "outputs": [
    {
     "name": "stdout",
     "output_type": "stream",
     "text": [
      "enter n1 value4\n",
      "enter n2 value2\n",
      "addition is: 6\n",
      "subtrac is: 2\n",
      "multiplication is: 8\n",
      "division is: 2.0\n"
     ]
    }
   ],
   "source": [
    "#2.without arg and return value\n",
    "def f2():\n",
    "    n1 =int(input('enter n1 value'))\n",
    "    n2 =int(input('enter n2 value'))\n",
    "    return n1+n2,n1-n2,n1*n2,n1/n2\n",
    "add,sub,mul,div =f2()\n",
    "print('addition is:',add)\n",
    "print('sis:',sububtrac )\n",
    "print('multiplication is:',mul)\n",
    "print('division is:',div)"
   ]
  },
  {
   "cell_type": "code",
   "execution_count": 16,
   "id": "stylish-congress",
   "metadata": {},
   "outputs": [
    {
     "name": "stdout",
     "output_type": "stream",
     "text": [
      "enter n1 value6\n",
      "enter n2 value3\n",
      "addition is: 9\n",
      "subtraction is: 3\n",
      "multiplication is: 18\n",
      "division is: 2.0\n"
     ]
    }
   ],
   "source": [
    "# with arg and without return\n",
    "n1 =int(input('enter n1 value'))\n",
    "n2 =int(input('enter n2 value'))\n",
    "def f2(n1,n2):\n",
    "\n",
    "    print('addition is:',n1+n2)\n",
    "    print('subtraction is:',n1-n2)\n",
    "    print('multiplication is:',n1*n2)\n",
    "    print('division is:',n1/n2)\n",
    "f2(n1,n2)    "
   ]
  },
  {
   "cell_type": "code",
   "execution_count": null,
   "id": "exciting-pharmaceutical",
   "metadata": {},
   "outputs": [],
   "source": []
  }
 ],
 "metadata": {
  "kernelspec": {
   "display_name": "Python 3",
   "language": "python",
   "name": "python3"
  },
  "language_info": {
   "codemirror_mode": {
    "name": "ipython",
    "version": 3
   },
   "file_extension": ".py",
   "mimetype": "text/x-python",
   "name": "python",
   "nbconvert_exporter": "python",
   "pygments_lexer": "ipython3",
   "version": "3.8.0"
  }
 },
 "nbformat": 4,
 "nbformat_minor": 5
}
