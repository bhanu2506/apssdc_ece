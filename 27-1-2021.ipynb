{
 "cells": [
  {
   "cell_type": "code",
   "execution_count": 1,
   "id": "perceived-lighting",
   "metadata": {},
   "outputs": [],
   "source": [
    "# based on arguments:\n",
    "#1.default arg\n",
    "#2.reguired or positional arg\n",
    "#3.variable length arg\n",
    "#4. keyword arg\n"
   ]
  },
  {
   "cell_type": "code",
   "execution_count": 3,
   "id": "sought-basics",
   "metadata": {},
   "outputs": [
    {
     "data": {
      "text/plain": [
       "300"
      ]
     },
     "execution_count": 3,
     "metadata": {},
     "output_type": "execute_result"
    }
   ],
   "source": [
    "#1.default arg:\n",
    "def default(a=10,b=10):\n",
    "    return a*b\n",
    "default()\n",
    "default(30)\n"
   ]
  },
  {
   "cell_type": "code",
   "execution_count": 8,
   "id": "breathing-least",
   "metadata": {},
   "outputs": [
    {
     "data": {
      "text/plain": [
       "111"
      ]
     },
     "execution_count": 8,
     "metadata": {},
     "output_type": "execute_result"
    }
   ],
   "source": [
    "# 2. required or positional arg\n",
    "def required(a,b=10,c=10):\n",
    "            return a**2+2*b+c\n",
    "required(9)"
   ]
  },
  {
   "cell_type": "code",
   "execution_count": 12,
   "id": "cognitive-trade",
   "metadata": {},
   "outputs": [
    {
     "data": {
      "text/plain": [
       "60"
      ]
     },
     "execution_count": 12,
     "metadata": {},
     "output_type": "execute_result"
    }
   ],
   "source": [
    "#3. variable length arg\n",
    "def var_len(a,b=20,*c):\n",
    "    return a+b+sum(c)\n",
    "var_len(10,10,10,10,10,10)\n",
    "\n"
   ]
  },
  {
   "cell_type": "code",
   "execution_count": 24,
   "id": "viral-solid",
   "metadata": {},
   "outputs": [
    {
     "data": {
      "text/plain": [
       "90"
      ]
     },
     "execution_count": 24,
     "metadata": {},
     "output_type": "execute_result"
    }
   ],
   "source": [
    "\n",
    "#3. variable length arg\n",
    "def var_len(a=20,b=20,*c):\n",
    "    return a+b+sum(c)\n",
    "result = var_len(20,20,10)\n",
    "def var_len1(result,d=20,e=20):\n",
    "    return result+d+e\n",
    "var_len1(result)\n",
    "    \n",
    "                    \n",
    "\n",
    "\n"
   ]
  },
  {
   "cell_type": "code",
   "execution_count": 25,
   "id": "responsible-theme",
   "metadata": {},
   "outputs": [
    {
     "name": "stdout",
     "output_type": "stream",
     "text": [
      "90 233 (67, 89)\n"
     ]
    }
   ],
   "source": [
    "#4. keyword arg\n",
    "def var_len(a,*c,b=20):\n",
    "    return a,b,c\n",
    "a,b,c =var_len(90,67,89,b = 233)\n",
    "print(a,b,c)"
   ]
  },
  {
   "cell_type": "code",
   "execution_count": 27,
   "id": "southwest-giving",
   "metadata": {},
   "outputs": [
    {
     "data": {
      "text/plain": [
       "{'name': ['abc', 'hello', 'apssdc']}"
      ]
     },
     "execution_count": 27,
     "metadata": {},
     "output_type": "execute_result"
    }
   ],
   "source": [
    "def key_word(**name):\n",
    "     return name\n",
    "key_word(name=['abc','hello','apssdc'])\n"
   ]
  },
  {
   "cell_type": "code",
   "execution_count": 20,
   "id": "industrial-bench",
   "metadata": {},
   "outputs": [
    {
     "data": {
      "text/plain": [
       "True"
      ]
     },
     "execution_count": 20,
     "metadata": {},
     "output_type": "execute_result"
    }
   ],
   "source": [
    "def is_perfect(n):\n",
    "    s = 0\n",
    "    for i in  range(1,n):\n",
    "        if n%i==0:\n",
    "            s+=i\n",
    "        if s == n:\n",
    "            return True\n",
    "    else:\n",
    "            return False\n",
    "is_perfect(6)"
   ]
  },
  {
   "cell_type": "code",
   "execution_count": 26,
   "id": "superior-vienna",
   "metadata": {},
   "outputs": [
    {
     "name": "stdout",
     "output_type": "stream",
     "text": [
      "6\n",
      "24\n",
      "28\n",
      "496\n"
     ]
    }
   ],
   "source": [
    "def perfect_gen(start,end):\n",
    "    for i in range(start,end+1):\n",
    "        if is_perfect(i):\n",
    "            print(i)\n",
    "perfect_gen(start=1,end=1000)         \n",
    "        "
   ]
  },
  {
   "cell_type": "code",
   "execution_count": 27,
   "id": "fifty-fabric",
   "metadata": {},
   "outputs": [
    {
     "ename": "IndentationError",
     "evalue": "unexpected indent (<ipython-input-27-0256b3f90af8>, line 2)",
     "output_type": "error",
     "traceback": [
      "\u001b[1;36m  File \u001b[1;32m\"<ipython-input-27-0256b3f90af8>\"\u001b[1;36m, line \u001b[1;32m2\u001b[0m\n\u001b[1;33m    -collection of characters.\u001b[0m\n\u001b[1;37m    ^\u001b[0m\n\u001b[1;31mIndentationError\u001b[0m\u001b[1;31m:\u001b[0m unexpected indent\n"
     ]
    }
   ],
   "source": [
    "### strings\n",
    " -collection of characters.\n",
    "    -('' or \"\")\n",
    "    "
   ]
  },
  {
   "cell_type": "code",
   "execution_count": 28,
   "id": "gorgeous-turning",
   "metadata": {},
   "outputs": [
    {
     "name": "stdout",
     "output_type": "stream",
     "text": [
      "apssdc\n"
     ]
    },
    {
     "data": {
      "text/plain": [
       "'apssdc'"
      ]
     },
     "execution_count": 28,
     "metadata": {},
     "output_type": "execute_result"
    }
   ],
   "source": [
    "g = \"apssdc\"\n",
    "print(g)\n",
    "g"
   ]
  },
  {
   "cell_type": "code",
   "execution_count": 31,
   "id": "grateful-drove",
   "metadata": {},
   "outputs": [
    {
     "data": {
      "text/plain": [
       "'s'"
      ]
     },
     "execution_count": 31,
     "metadata": {},
     "output_type": "execute_result"
    }
   ],
   "source": [
    "# accesing the value\n",
    "g[3] # forward indexing\n"
   ]
  },
  {
   "cell_type": "code",
   "execution_count": 32,
   "id": "alpha-macedonia",
   "metadata": {},
   "outputs": [
    {
     "data": {
      "text/plain": [
       "'c'"
      ]
     },
     "execution_count": 32,
     "metadata": {},
     "output_type": "execute_result"
    }
   ],
   "source": [
    "g[-1]"
   ]
  },
  {
   "cell_type": "code",
   "execution_count": 34,
   "id": "processed-evans",
   "metadata": {},
   "outputs": [
    {
     "name": "stdout",
     "output_type": "stream",
     "text": [
      "apssdc\n"
     ]
    },
    {
     "data": {
      "text/plain": [
       "'sdc'"
      ]
     },
     "execution_count": 34,
     "metadata": {},
     "output_type": "execute_result"
    }
   ],
   "source": [
    "# slicing\n",
    "print(g)\n",
    "g[3:6]"
   ]
  },
  {
   "cell_type": "code",
   "execution_count": 35,
   "id": "regulation-latino",
   "metadata": {},
   "outputs": [
    {
     "data": {
      "text/plain": [
       "'apssdc'"
      ]
     },
     "execution_count": 35,
     "metadata": {},
     "output_type": "execute_result"
    }
   ],
   "source": [
    "g[0:6]"
   ]
  },
  {
   "cell_type": "code",
   "execution_count": 36,
   "id": "grand-toilet",
   "metadata": {},
   "outputs": [
    {
     "data": {
      "text/plain": [
       "'sdc'"
      ]
     },
     "execution_count": 36,
     "metadata": {},
     "output_type": "execute_result"
    }
   ],
   "source": [
    "g[3:]"
   ]
  },
  {
   "cell_type": "code",
   "execution_count": 37,
   "id": "muslim-stuart",
   "metadata": {},
   "outputs": [
    {
     "data": {
      "text/plain": [
       "'apssd'"
      ]
     },
     "execution_count": 37,
     "metadata": {},
     "output_type": "execute_result"
    }
   ],
   "source": [
    "g[0:-1]"
   ]
  },
  {
   "cell_type": "code",
   "execution_count": 38,
   "id": "physical-marker",
   "metadata": {},
   "outputs": [
    {
     "data": {
      "text/plain": [
       "'cdsspa'"
      ]
     },
     "execution_count": 38,
     "metadata": {},
     "output_type": "execute_result"
    }
   ],
   "source": [
    "g[::-1] # reverse string"
   ]
  },
  {
   "cell_type": "code",
   "execution_count": 39,
   "id": "daily-storm",
   "metadata": {},
   "outputs": [
    {
     "data": {
      "text/plain": [
       "'csp'"
      ]
     },
     "execution_count": 39,
     "metadata": {},
     "output_type": "execute_result"
    }
   ],
   "source": [
    "g[::-2]"
   ]
  },
  {
   "cell_type": "code",
   "execution_count": 41,
   "id": "cubic-pledge",
   "metadata": {},
   "outputs": [
    {
     "data": {
      "text/plain": [
       "'apssedc\\nsdc \\nrvr\\n'"
      ]
     },
     "execution_count": 41,
     "metadata": {},
     "output_type": "execute_result"
    }
   ],
   "source": [
    "s1='bhanu'\n",
    "s2  = \"\"\"apssedc\n",
    "sdc \n",
    "rvr\n",
    "\"\"\"\n",
    "s2"
   ]
  },
  {
   "cell_type": "code",
   "execution_count": 44,
   "id": "magnetic-flooring",
   "metadata": {},
   "outputs": [
    {
     "name": "stdout",
     "output_type": "stream",
     "text": [
      "apssdc\n"
     ]
    },
    {
     "data": {
      "text/plain": [
       "' print(\"rvr\")\\nprint(\"tbu\")'"
      ]
     },
     "execution_count": 44,
     "metadata": {},
     "output_type": "execute_result"
    }
   ],
   "source": [
    "print(\"apssdc\")\n",
    "''' print(\"rvr\")\n",
    "print(\"tbu\")''' #multiline"
   ]
  },
  {
   "cell_type": "code",
   "execution_count": 45,
   "id": "terminal-cartoon",
   "metadata": {},
   "outputs": [
    {
     "data": {
      "text/plain": [
       "'Apssdc'"
      ]
     },
     "execution_count": 45,
     "metadata": {},
     "output_type": "execute_result"
    }
   ],
   "source": [
    "g.capitalize() #starting letter be capital"
   ]
  },
  {
   "cell_type": "code",
   "execution_count": 46,
   "id": "parliamentary-encyclopedia",
   "metadata": {},
   "outputs": [
    {
     "name": "stdout",
     "output_type": "stream",
     "text": [
      "apssdc\n"
     ]
    },
    {
     "data": {
      "text/plain": [
       "'apssdc'"
      ]
     },
     "execution_count": 46,
     "metadata": {},
     "output_type": "execute_result"
    }
   ],
   "source": [
    "print(g)\n",
    "g.lower()  # in this method convert lower to upper"
   ]
  },
  {
   "cell_type": "code",
   "execution_count": 47,
   "id": "steady-kingdom",
   "metadata": {},
   "outputs": [
    {
     "data": {
      "text/plain": [
       "'ABCABC'"
      ]
     },
     "execution_count": 47,
     "metadata": {},
     "output_type": "execute_result"
    }
   ],
   "source": [
    "g1=\"ABCabc\"\n",
    "g1.upper()"
   ]
  },
  {
   "cell_type": "code",
   "execution_count": 48,
   "id": "certain-condition",
   "metadata": {},
   "outputs": [
    {
     "data": {
      "text/plain": [
       "' Apssdc P[Ython Workshop'"
      ]
     },
     "execution_count": 48,
     "metadata": {},
     "output_type": "execute_result"
    }
   ],
   "source": [
    "g3=' apssdc p[ython workshop'\n",
    "g3.title()"
   ]
  },
  {
   "cell_type": "code",
   "execution_count": 51,
   "id": "future-backing",
   "metadata": {},
   "outputs": [
    {
     "name": "stdout",
     "output_type": "stream",
     "text": [
      "rvr ece\n"
     ]
    }
   ],
   "source": [
    "a=\"rvr \"\n",
    "b= \"ece\"\n",
    "c=a+b\n",
    "print(c)"
   ]
  },
  {
   "cell_type": "code",
   "execution_count": 52,
   "id": "light-parade",
   "metadata": {},
   "outputs": [
    {
     "data": {
      "text/plain": [
       "['rvr', 'ece']"
      ]
     },
     "execution_count": 52,
     "metadata": {},
     "output_type": "execute_result"
    }
   ],
   "source": [
    "c.split()"
   ]
  },
  {
   "cell_type": "code",
   "execution_count": 57,
   "id": "contained-greenhouse",
   "metadata": {},
   "outputs": [
    {
     "data": {
      "text/plain": [
       "[' ap', '', 'dc p[ython work', 'hop']"
      ]
     },
     "execution_count": 57,
     "metadata": {},
     "output_type": "execute_result"
    }
   ],
   "source": [
    "g3.split('s')"
   ]
  },
  {
   "cell_type": "code",
   "execution_count": 58,
   "id": "about-bouquet",
   "metadata": {},
   "outputs": [
    {
     "data": {
      "text/plain": [
       "'apssdc p[ython workshop'"
      ]
     },
     "execution_count": 58,
     "metadata": {},
     "output_type": "execute_result"
    }
   ],
   "source": [
    "g3.strip()"
   ]
  },
  {
   "cell_type": "code",
   "execution_count": 59,
   "id": "straight-convertible",
   "metadata": {},
   "outputs": [
    {
     "data": {
      "text/plain": [
       "16"
      ]
     },
     "execution_count": 59,
     "metadata": {},
     "output_type": "execute_result"
    }
   ],
   "source": [
    "z= \"python workshop \"\n",
    "len(z)"
   ]
  },
  {
   "cell_type": "code",
   "execution_count": 61,
   "id": "exotic-submission",
   "metadata": {},
   "outputs": [
    {
     "data": {
      "text/plain": [
       "'python workshop '"
      ]
     },
     "execution_count": 61,
     "metadata": {},
     "output_type": "execute_result"
    }
   ],
   "source": [
    "z.lstrip( )"
   ]
  },
  {
   "cell_type": "code",
   "execution_count": 65,
   "id": "neither-capability",
   "metadata": {},
   "outputs": [
    {
     "data": {
      "text/plain": [
       "'bhanu  red@btech@west'"
      ]
     },
     "execution_count": 65,
     "metadata": {},
     "output_type": "execute_result"
    }
   ],
   "source": [
    "#join\n",
    "a = ['bhanu  red','btech','west']\n",
    "\"@\".join(a)"
   ]
  },
  {
   "cell_type": "code",
   "execution_count": null,
   "id": "handled-privilege",
   "metadata": {},
   "outputs": [],
   "source": []
  }
 ],
 "metadata": {
  "kernelspec": {
   "display_name": "Python 3",
   "language": "python",
   "name": "python3"
  },
  "language_info": {
   "codemirror_mode": {
    "name": "ipython",
    "version": 3
   },
   "file_extension": ".py",
   "mimetype": "text/x-python",
   "name": "python",
   "nbconvert_exporter": "python",
   "pygments_lexer": "ipython3",
   "version": "3.8.0"
  }
 },
 "nbformat": 4,
 "nbformat_minor": 5
}
